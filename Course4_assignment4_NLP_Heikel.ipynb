{
 "cells": [
  {
   "cell_type": "code",
   "execution_count": 265,
   "metadata": {},
   "outputs": [],
   "source": [
    "import json\n",
    "import random\n",
    "import numpy as np\n",
    "import pandas as pd\n",
    "from time import time\n",
    "import sklearn\n",
    "import seaborn as sn"
   ]
  },
  {
   "cell_type": "code",
   "execution_count": 266,
   "metadata": {},
   "outputs": [
    {
     "name": "stdout",
     "output_type": "stream",
     "text": [
      "class label: neg\n",
      "text: In the first one it was mainly giant rats, but there were some wasps and a giant chicken too. This one, however, is just giant rats period, well giant rats and one really growing little boy. This one is about this growing boy and a scientist that is trying to help him so he accidentally creates giant killer rats...you know how it is. This movie has some kills and its moments, but I find it to be on par with the original, I just prefer some variety in my giant creature movies. Well, that is not true...I actually like \\Empire of the Ants\\\", maybe I just do not care for giant rodents. All in all a rather drab movie though it does have one rather odd turn of events in this one dream sequence that is truly bizarre. I just can't recommend this one.\"\n"
     ]
    }
   ],
   "source": [
    "with open(\"imdb_train.json\") as f:\n",
    "    data=json.load(f)\n",
    "random.shuffle(data) #play it safe! (why?)\n",
    "print(\"class label:\", data[0][\"class\"])\n",
    "print(\"text:\",data[0][\"text\"])"
   ]
  },
  {
   "cell_type": "code",
   "execution_count": 5,
   "metadata": {},
   "outputs": [],
   "source": [
    "texts=[one_example[\"text\"] for one_example in data]\n",
    "labels=[one_example[\"class\"] for one_example in data]"
   ]
  },
  {
   "cell_type": "code",
   "execution_count": 92,
   "metadata": {},
   "outputs": [
    {
     "data": {
      "text/plain": [
       "Counter({'neg': 12500, 'pos': 12500})"
      ]
     },
     "execution_count": 92,
     "metadata": {},
     "output_type": "execute_result"
    }
   ],
   "source": [
    "Counter(labels) # balanced number of labels"
   ]
  },
  {
   "cell_type": "code",
   "execution_count": 6,
   "metadata": {},
   "outputs": [
    {
     "name": "stdout",
     "output_type": "stream",
     "text": [
      "This many texts 25000\n",
      "This many labels 25000\n",
      "\n",
      "neg The premise is ridiculous, the characters unbeliev...\n",
      "neg If you have seen very less films, this might be a ...\n",
      "neg My title ought to be enough.  It baffles me that a...\n",
      "pos i got to see the whole movie last night and i foun...\n",
      "pos I watched this film so many times through my child...\n",
      "neg This movie is not as horrible as most Sci-Fi Chann...\n",
      "neg Having the In-Laws over for the weekend? Then this...\n",
      "pos This is the moving tale of Scotland's legendary he...\n",
      "pos Fabulous film! Rented the DVD recently and was flo...\n",
      "pos Yes its an art... to successfully make a slow pace...\n",
      "pos I have seen this movie and even though I kind of k...\n",
      "pos As a convert into the Church of Jesus Christ of La...\n",
      "neg Serge Farnel made a very precise critics of this f...\n",
      "pos Well, when before I saw this film I really wasn't ...\n",
      "neg Damn, I thought I'd seen some bad westerns. Can't ...\n",
      "neg Zombie Nation 2004 R  Hey, I was bored. I looked i...\n",
      "neg OK this movie was made for one reason and one reas...\n",
      "pos This is a feel-good movie and nothing more. And fo...\n",
      "neg Back in the 70's, when I had first seen this, I wa...\n",
      "neg The fact that someone actually spent money on such...\n"
     ]
    }
   ],
   "source": [
    "print(\"This many texts\",len(texts))\n",
    "print(\"This many labels\",len(labels))\n",
    "print()\n",
    "for label,text in list(zip(labels,texts))[:20]:\n",
    "    print(label,text[:50]+\"...\")"
   ]
  },
  {
   "cell_type": "markdown",
   "metadata": {},
   "source": [
    "## 1.Test sklearn’s TfidfVectorizer in place of CountVectorizer on the IMDB data. Do you see any difference in the classification results or the optimal C value?"
   ]
  },
  {
   "cell_type": "code",
   "execution_count": 7,
   "metadata": {},
   "outputs": [
    {
     "name": "stdout",
     "output_type": "stream",
     "text": [
      "shape= (25000, 74849)\n",
      "what did we get? -> <class 'scipy.sparse.csr.csr_matrix'>\n"
     ]
    }
   ],
   "source": [
    "from sklearn.feature_extraction.text import CountVectorizer\n",
    "\n",
    "vectorizer=CountVectorizer(max_features=100000,binary=True,ngram_range=(1,1))\n",
    "feature_matrix_count=vectorizer.fit_transform(texts)\n",
    "print(\"shape=\",feature_matrix_count.shape)\n",
    "print(\"what did we get? ->\", feature_matrix_count.__class__)"
   ]
  },
  {
   "cell_type": "code",
   "execution_count": 8,
   "metadata": {},
   "outputs": [],
   "source": [
    "from sklearn.feature_extraction.text import CountVectorizer\n",
    "\n",
    "def split_data_get_feature_matrix(text, labels, Vectorizer=CountVectorizer, ngram_range=(1, 1)):\n",
    "    from sklearn.model_selection import train_test_split\n",
    "\n",
    "    train_texts, dev_texts, train_labels, dev_labels=train_test_split(texts,labels,test_size=0.2)\n",
    "    \n",
    "    vectorizer=Vectorizer(max_features=100000,binary=True,ngram_range=ngram_range)\n",
    "        \n",
    "    feature_matrix_train=vectorizer.fit_transform(train_texts)\n",
    "    feature_matrix_dev=vectorizer.transform(dev_texts)\n",
    "    \n",
    "    split_dict = {'train_texts': train_texts, \n",
    "                  'dev_texts': dev_texts, \n",
    "                  'train_labels':train_labels,\n",
    "                  'dev_labels':dev_labels,\n",
    "                  'feature_matrix_train':feature_matrix_train,\n",
    "                  'feature_matrix_dev':feature_matrix_dev}\n",
    "    \n",
    "    return split_dict, vectorizer"
   ]
  },
  {
   "cell_type": "code",
   "execution_count": 9,
   "metadata": {},
   "outputs": [],
   "source": [
    "def grid_searchSVC(X_train, y_train):\n",
    "    from sklearn.svm import LinearSVC\n",
    "    from sklearn.model_selection import GridSearchCV\n",
    "    \n",
    "    param_grid =  [{'C': [0.001, 0.01, 0.1, 1, 10, 120]}]        \n",
    "\n",
    "    grid_search = GridSearchCV(LinearSVC(), param_grid, cv=5)\n",
    "    grid_search.fit(X_train, y_train)\n",
    "    \n",
    "    return grid_search"
   ]
  },
  {
   "cell_type": "code",
   "execution_count": 10,
   "metadata": {},
   "outputs": [],
   "source": [
    "def get_svm_results(split_dict, c=1):\n",
    "    classifier=sklearn.svm.LinearSVC(C=c)\n",
    "    classifier.fit(split_dict['feature_matrix_train'], split_dict['train_labels'])\n",
    "\n",
    "    score_dev = classifier.score(split_dict['feature_matrix_dev'], split_dict['dev_labels'])\n",
    "    return score_dev\n",
    "    "
   ]
  },
  {
   "cell_type": "markdown",
   "metadata": {},
   "source": [
    "#### Using CountVectorizer"
   ]
  },
  {
   "cell_type": "code",
   "execution_count": 11,
   "metadata": {},
   "outputs": [
    {
     "name": "stderr",
     "output_type": "stream",
     "text": [
      "/opt/conda/lib/python3.7/site-packages/sklearn/svm/base.py:929: ConvergenceWarning: Liblinear failed to converge, increase the number of iterations.\n",
      "  \"the number of iterations.\", ConvergenceWarning)\n"
     ]
    }
   ],
   "source": [
    "split_count, vectorizer_count = split_data_get_feature_matrix(text, labels)\n",
    "gcv_count = grid_searchSVC(split_count['feature_matrix_train'], split_count['train_labels'])\n",
    "    "
   ]
  },
  {
   "cell_type": "code",
   "execution_count": 14,
   "metadata": {},
   "outputs": [
    {
     "name": "stdout",
     "output_type": "stream",
     "text": [
      "TRAIN: With default C = 1 accuracy was [0.8578]\n",
      "DEV: With default C = 1 accuracy was [0.8584]\n"
     ]
    }
   ],
   "source": [
    "index = [gcv_count.cv_results_['params'].index({'C': 1})]\n",
    "score_train = gcv_count.cv_results_['mean_test_score'][index]\n",
    "score_dev = get_svm_results(split_count)\n",
    "\n",
    "print(f'TRAIN: With default C = 1 accuracy was {score_train}')\n",
    "print(f'DEV: With default C = 1 accuracy was {[score_dev]}')"
   ]
  },
  {
   "cell_type": "code",
   "execution_count": 15,
   "metadata": {},
   "outputs": [
    {
     "name": "stdout",
     "output_type": "stream",
     "text": [
      "TRAIN: The best C parameter, based on gridsearch, was 0.01, with an accuracy of [0.8799]\n",
      "DEV: The best C parameter, based on gridsearch, was 0.01, with an accuracy of [0.8788]\n"
     ]
    }
   ],
   "source": [
    "best_C = gcv_count.best_params_['C']\n",
    "acc = gcv_count.best_score_\n",
    "score_dev = get_svm_results(split_count, c=best_C)\n",
    "print(f'TRAIN: The best C parameter, based on gridsearch, was {best_C}, with an accuracy of {[acc]}')\n",
    "print(f'DEV: The best C parameter, based on gridsearch, was {best_C}, with an accuracy of {[score_dev]}')"
   ]
  },
  {
   "cell_type": "markdown",
   "metadata": {},
   "source": [
    "#### Using TfidfVectorizer"
   ]
  },
  {
   "cell_type": "code",
   "execution_count": 16,
   "metadata": {},
   "outputs": [
    {
     "name": "stderr",
     "output_type": "stream",
     "text": [
      "/opt/conda/lib/python3.7/site-packages/sklearn/svm/base.py:929: ConvergenceWarning: Liblinear failed to converge, increase the number of iterations.\n",
      "  \"the number of iterations.\", ConvergenceWarning)\n"
     ]
    }
   ],
   "source": [
    "from sklearn.feature_extraction.text import TfidfVectorizer\n",
    "split_Tfidf,vectorizer_Tfidf  = split_data_get_feature_matrix(text, labels, Vectorizer=TfidfVectorizer)\n",
    "gcv_Tfidf = grid_searchSVC(split_Tfidf['feature_matrix_train'], split_Tfidf['train_labels'])\n",
    "    "
   ]
  },
  {
   "cell_type": "code",
   "execution_count": 17,
   "metadata": {},
   "outputs": [
    {
     "name": "stdout",
     "output_type": "stream",
     "text": [
      "TRAIN: With default C = 1 accuracy was [0.8852]\n",
      "DEV: With default C = 1 accuracy was [0.8924]\n"
     ]
    }
   ],
   "source": [
    "index = [gcv_Tfidf.cv_results_['params'].index({'C': 1})]\n",
    "score_train = gcv_Tfidf.cv_results_['mean_test_score'][index]\n",
    "score_dev = get_svm_results(split_Tfidf)\n",
    "print(f'TRAIN: With default C = 1 accuracy was {score_train}')\n",
    "print(f'DEV: With default C = 1 accuracy was {[score_dev]}')"
   ]
  },
  {
   "cell_type": "code",
   "execution_count": 18,
   "metadata": {},
   "outputs": [
    {
     "name": "stdout",
     "output_type": "stream",
     "text": [
      "TRAIN: The best C parameter, based on gridsearch, was 0.1, with an accuracy of [0.88645]\n",
      "DEV: The best C parameter, based on gridsearch, was 0.1, with an accuracy of [0.8904]\n"
     ]
    }
   ],
   "source": [
    "best_C = gcv_Tfidf.best_params_['C']\n",
    "acc = gcv_Tfidf.best_score_\n",
    "score_dev = get_svm_results(split_Tfidf, c=best_C)\n",
    "print(f'TRAIN: The best C parameter, based on gridsearch, was {best_C}, with an accuracy of {[acc]}')\n",
    "print(f'DEV: The best C parameter, based on gridsearch, was {best_C}, with an accuracy of {[score_dev]}')"
   ]
  },
  {
   "cell_type": "markdown",
   "metadata": {},
   "source": [
    "## Answer:\n",
    "Comparing CountVectorizer with TfidfVectorizer shows that, generally, TfidfVectorizer performed _marginally_ better. \n",
    "\n",
    "Further, it was shown that using preliminary optimal C values TfidfVectorizer had an optimal C of 1 and CountVectorizer had an optimal C of 0.01"
   ]
  },
  {
   "cell_type": "markdown",
   "metadata": {},
   "source": [
    "## 2.Test different lengths of n-grams in the CountVectorizer on the IMDB data.Do you see any difference in the classification results or the optimal C value? Do these n-grams show up also in the list of most significant positive/negative features"
   ]
  },
  {
   "cell_type": "code",
   "execution_count": 27,
   "metadata": {},
   "outputs": [],
   "source": [
    "def test_ranges(r):    \n",
    "    split_count, vectorizer_count = split_data_get_feature_matrix(text, labels, ngram_range=r)\n",
    "    gcv_count = grid_searchSVC(split_count['feature_matrix_train'], split_count['train_labels'])\n",
    "\n",
    "    index = [gcv_count.cv_results_['params'].index({'C': 1})]\n",
    "    score_train = gcv_count.cv_results_['mean_test_score'][index]\n",
    "    score_dev = get_svm_results(split_count)\n",
    "    print(f'RESULTS FOR NGRAM RANGE OF  {r}')\n",
    "    print('Using default parameters (C=1):')\n",
    "    print(f'(TRAIN) scores = {score_train}')\n",
    "    print(f'(DEV) scores = {[score_dev]}')\n",
    "\n",
    "    best_C = gcv_count.best_params_['C']\n",
    "    acc = gcv_count.best_score_\n",
    "    score_dev = get_svm_results(split_count, c=best_C)\n",
    "    print(f'TRAIN: The best C parameter, based on gridsearch, was {best_C}, with an accuracy of {[acc]}')\n",
    "    print(f'DEV: The best C parameter, based on gridsearch, was {best_C}, with an accuracy of {[score_dev]}')\n",
    "\n",
    "    results_dict= {'split_count': split_count,\n",
    "                    'vectorizer':vectorizer_count,\n",
    "                    'gcv':gcv_count, \n",
    "                    'score_train': score_train,\n",
    "                    'score_dev': score_dev,\n",
    "                    'best_C': best_C,\n",
    "                    'score_opt_train': acc,\n",
    "                    'score_opt_dev': score_dev}\n",
    "    print('\\n\\n')\n",
    "    return results_dict"
   ]
  },
  {
   "cell_type": "code",
   "execution_count": 28,
   "metadata": {},
   "outputs": [
    {
     "name": "stderr",
     "output_type": "stream",
     "text": [
      "/opt/conda/lib/python3.7/site-packages/sklearn/svm/base.py:929: ConvergenceWarning: Liblinear failed to converge, increase the number of iterations.\n",
      "  \"the number of iterations.\", ConvergenceWarning)\n"
     ]
    },
    {
     "name": "stdout",
     "output_type": "stream",
     "text": [
      "RESULTS FOR NGRAM RANGE OF  (1, 1)\n",
      "Using default parameters (C=1):\n",
      "(TRAIN) scores = [0.8548]\n",
      "(DEV) scores = [0.8696]\n",
      "TRAIN: The best C parameter, based on gridsearch, was 0.01, with an accuracy of [0.8782]\n",
      "DEV: The best C parameter, based on gridsearch, was 0.01, with an accuracy of [0.889]\n",
      "\n",
      "\n",
      "\n"
     ]
    },
    {
     "name": "stderr",
     "output_type": "stream",
     "text": [
      "/opt/conda/lib/python3.7/site-packages/sklearn/svm/base.py:929: ConvergenceWarning: Liblinear failed to converge, increase the number of iterations.\n",
      "  \"the number of iterations.\", ConvergenceWarning)\n"
     ]
    },
    {
     "name": "stdout",
     "output_type": "stream",
     "text": [
      "RESULTS FOR NGRAM RANGE OF  (1, 2)\n",
      "Using default parameters (C=1):\n",
      "(TRAIN) scores = [0.8829]\n",
      "(DEV) scores = [0.8808]\n",
      "TRAIN: The best C parameter, based on gridsearch, was 0.01, with an accuracy of [0.89045]\n",
      "DEV: The best C parameter, based on gridsearch, was 0.01, with an accuracy of [0.8906]\n",
      "\n",
      "\n",
      "\n"
     ]
    },
    {
     "name": "stderr",
     "output_type": "stream",
     "text": [
      "/opt/conda/lib/python3.7/site-packages/sklearn/svm/base.py:929: ConvergenceWarning: Liblinear failed to converge, increase the number of iterations.\n",
      "  \"the number of iterations.\", ConvergenceWarning)\n"
     ]
    },
    {
     "name": "stdout",
     "output_type": "stream",
     "text": [
      "RESULTS FOR NGRAM RANGE OF  (1, 3)\n",
      "Using default parameters (C=1):\n",
      "(TRAIN) scores = [0.88325]\n",
      "(DEV) scores = [0.8904]\n",
      "TRAIN: The best C parameter, based on gridsearch, was 0.01, with an accuracy of [0.89055]\n",
      "DEV: The best C parameter, based on gridsearch, was 0.01, with an accuracy of [0.8964]\n",
      "\n",
      "\n",
      "\n"
     ]
    }
   ],
   "source": [
    "ngram_dict = {}\n",
    "ranges = [(1, 1),\n",
    "          (1, 2),\n",
    "          (1, 3)]\n",
    "for r in ranges:\n",
    "    ngram_dict[r] = test_ranges(r)"
   ]
  },
  {
   "cell_type": "markdown",
   "metadata": {},
   "source": [
    "#### Answer (Part1):\n",
    "It seems that including bigrams (ngram=2) improves the performance, however, ngram=3 does not seem to add any additional improvements. Preliminary optimal C for all 3 were the same (C=0.01), however, one could (in principle) dive deeper and see if there are better optimal Cs and whether they deviate. For curiousity's sake I will test a few other ranges."
   ]
  },
  {
   "cell_type": "code",
   "execution_count": 23,
   "metadata": {},
   "outputs": [
    {
     "name": "stderr",
     "output_type": "stream",
     "text": [
      "/opt/conda/lib/python3.7/site-packages/sklearn/svm/base.py:929: ConvergenceWarning: Liblinear failed to converge, increase the number of iterations.\n",
      "  \"the number of iterations.\", ConvergenceWarning)\n"
     ]
    },
    {
     "name": "stdout",
     "output_type": "stream",
     "text": [
      "RESULTS FOR NGRAM RANGE OF  (2, 2)\n",
      "Using default parameters (C=1):\n",
      "(TRAIN) scores = [0.86035]\n",
      "(DEV) scores = [0.8586]\n",
      "TRAIN: The best C parameter, based on gridsearch, was 0.01, with an accuracy of [0.87145]\n",
      "DEV: The best C parameter, based on gridsearch, was 0.01, with an accuracy of [0.8712]\n",
      "\n",
      "\n",
      "\n"
     ]
    },
    {
     "name": "stderr",
     "output_type": "stream",
     "text": [
      "/opt/conda/lib/python3.7/site-packages/sklearn/svm/base.py:929: ConvergenceWarning: Liblinear failed to converge, increase the number of iterations.\n",
      "  \"the number of iterations.\", ConvergenceWarning)\n"
     ]
    },
    {
     "name": "stdout",
     "output_type": "stream",
     "text": [
      "RESULTS FOR NGRAM RANGE OF  (2, 3)\n",
      "Using default parameters (C=1):\n",
      "(TRAIN) scores = [0.85865]\n",
      "(DEV) scores = [0.8556]\n",
      "TRAIN: The best C parameter, based on gridsearch, was 0.01, with an accuracy of [0.8686]\n",
      "DEV: The best C parameter, based on gridsearch, was 0.01, with an accuracy of [0.8696]\n",
      "\n",
      "\n",
      "\n"
     ]
    },
    {
     "name": "stderr",
     "output_type": "stream",
     "text": [
      "/opt/conda/lib/python3.7/site-packages/sklearn/svm/base.py:929: ConvergenceWarning: Liblinear failed to converge, increase the number of iterations.\n",
      "  \"the number of iterations.\", ConvergenceWarning)\n"
     ]
    },
    {
     "name": "stdout",
     "output_type": "stream",
     "text": [
      "RESULTS FOR NGRAM RANGE OF  (3, 3)\n",
      "Using default parameters (C=1):\n",
      "(TRAIN) scores = [0.8092]\n",
      "(DEV) scores = [0.8086]\n",
      "TRAIN: The best C parameter, based on gridsearch, was 0.01, with an accuracy of [0.82685]\n",
      "DEV: The best C parameter, based on gridsearch, was 0.01, with an accuracy of [0.8352]\n",
      "\n",
      "\n",
      "\n"
     ]
    }
   ],
   "source": [
    "ranges = [(2, 2),\n",
    "          (2, 3),\n",
    "          (3, 3)]\n",
    "for r in ranges:\n",
    "    ngram_dict[r] = test_ranges(r)"
   ]
  },
  {
   "cell_type": "markdown",
   "metadata": {},
   "source": [
    "As one would expect, not including single words (i.e. ranges from 2 and upwards) did not improve performance."
   ]
  },
  {
   "cell_type": "code",
   "execution_count": 29,
   "metadata": {},
   "outputs": [],
   "source": [
    "def feature_interpreter(ngram_dict_range):\n",
    "\n",
    "    vectorizer = ngram_dict_range['vectorizer']\n",
    "    gcv = ngram_dict_range['gcv']\n",
    "    \n",
    "    index2feature={}\n",
    "    for feature,idx in vectorizer.vocabulary_.items():\n",
    "        assert idx not in index2feature #This really should hold\n",
    "        index2feature[idx]=feature\n",
    "\n",
    "    indices=np.argsort(gcv.best_estimator_.coef_[0])\n",
    "    print(indices)\n",
    "    for idx in indices[:30]:\n",
    "        print(index2feature[idx])\n",
    "    print(\"-------------------------------\")\n",
    "    for idx in indices[::-1][:30]: #you can also do it the other way round, reverse, then pick\n",
    "        print(index2feature[idx])"
   ]
  },
  {
   "cell_type": "code",
   "execution_count": 30,
   "metadata": {},
   "outputs": [
    {
     "name": "stdout",
     "output_type": "stream",
     "text": [
      "[ 9898 12882 98243 ... 31886 61540 24846]\n",
      "awful\n",
      "boring\n",
      "worst\n",
      "poorly\n",
      "disappointing\n",
      "poor\n",
      "waste\n",
      "disappointment\n",
      "dull\n",
      "bad\n",
      "unfortunately\n",
      "terrible\n",
      "lacks\n",
      "mess\n",
      "the worst\n",
      "worse\n",
      "lame\n",
      "ridiculous\n",
      "laughable\n",
      "at best\n",
      "stupid\n",
      "not even\n",
      "oh\n",
      "the original\n",
      "avoid\n",
      "horrible\n",
      "fails\n",
      "annoying\n",
      "wonder\n",
      "not worth\n",
      "-------------------------------\n",
      "excellent\n",
      "perfect\n",
      "great\n",
      "superb\n",
      "today\n",
      "enjoyable\n",
      "amazing\n",
      "wonderful\n",
      "fantastic\n",
      "rare\n",
      "must see\n",
      "simple\n",
      "liked\n",
      "10 10\n",
      "enjoyed\n",
      "at the end\n",
      "loved\n",
      "definitely worth\n",
      "of what\n",
      "noir\n",
      "favorite\n",
      "brilliant\n",
      "fun\n",
      "wonderfully\n",
      "enjoyed it\n",
      "bit\n",
      "surprisingly\n",
      "love this\n",
      "well worth\n",
      "fascinating\n"
     ]
    }
   ],
   "source": [
    "feature_interpreter(ngram_dict[(1, 3)])"
   ]
  },
  {
   "cell_type": "markdown",
   "metadata": {},
   "source": [
    "#### Answer (Part2):\n",
    "As mentioned earlier including ngrams of 1 and 2 improved classifier performance and this is reflected in the classifier coefficients. \n",
    "\n",
    "For example 'definitely worth', 'enjoyed it' and 'must see' were flagged as important features for positive labels and 'the worst' and 'waste of' were considered flagged as important features for negative labels.\n",
    "\n",
    "Considering that ngrams of 3 did not further improve classerier performance is reflected in the observation that none of the word triplets were flagged as important when including them."
   ]
  },
  {
   "cell_type": "markdown",
   "metadata": {},
   "source": [
    "## 3.In the data package for the course (http://dl.turkunlp.org/intro-to-nlp.tar.gz),the directory language_identification contains data for 5 languages. Based on this data, train an SVMclassifier for language recognition between these 5 language"
   ]
  },
  {
   "cell_type": "code",
   "execution_count": 31,
   "metadata": {},
   "outputs": [
    {
     "name": "stdout",
     "output_type": "stream",
     "text": [
      "--2020-02-26 03:54:20--  http://dl.turkunlp.org/intro-to-nlp.tar.gz\n",
      "Resolving dl.turkunlp.org (dl.turkunlp.org)... 195.148.30.23\n",
      "Connecting to dl.turkunlp.org (dl.turkunlp.org)|195.148.30.23|:80... connected.\n",
      "HTTP request sent, awaiting response... 200 OK\n",
      "Length: 76192539 (73M) [application/octet-stream]\n",
      "Saving to: ‘intro-to-nlp.tar.gz’\n",
      "\n",
      "intro-to-nlp.tar.gz 100%[===================>]  72.66M   346MB/s    in 0.2s    \n",
      "\n",
      "2020-02-26 03:54:20 (346 MB/s) - ‘intro-to-nlp.tar.gz’ saved [76192539/76192539]\n",
      "\n"
     ]
    }
   ],
   "source": [
    "!wget http://dl.turkunlp.org/intro-to-nlp.tar.gz\n",
    "    \n",
    "import tarfile\n",
    "with tarfile.open('intro-to-nlp.tar.gz', 'r:gz') as t:\n",
    "    t.extractall()\n"
   ]
  },
  {
   "cell_type": "code",
   "execution_count": 32,
   "metadata": {},
   "outputs": [],
   "source": [
    "from os import listdir\n",
    "fnames = [f'intro-to-nlp/language-identification/{f}' for f in listdir('intro-to-nlp/language-identification/') if '.txt' in f]"
   ]
  },
  {
   "cell_type": "code",
   "execution_count": 144,
   "metadata": {},
   "outputs": [],
   "source": [
    "from random import shuffle\n",
    "\n",
    "data_dict = {'train':[], 'test':[], 'devel': []}\n",
    "for file in fnames:\n",
    "    \n",
    "    with open(file, 'r') as f:\n",
    "        text = f.read().split('\\n')\n",
    "    \n",
    "    lang, sample = file.split('/')[-1].split('.')[0].split('_')\n",
    "    \n",
    "    for t in text:\n",
    "        data_dict[sample].append([t, lang])\n",
    "    \n",
    "#for key in data_dict:\n",
    "#    shuffle(data_dict[key])\n",
    "\n",
    "train = np.array(data_dict['train'])[:, 0]\n",
    "train_label = np.array(data_dict['train'])[:, 1]\n",
    "\n",
    "test = np.array(data_dict['test'])[:, 0]\n",
    "test_label = np.array(data_dict['test'])[:, 1]\n",
    "\n",
    "dev = np.array(data_dict['devel'])[:, 0]\n",
    "dev_label = np.array(data_dict['devel'])[:, 1]"
   ]
  },
  {
   "cell_type": "code",
   "execution_count": 136,
   "metadata": {},
   "outputs": [],
   "source": [
    "from sklearn.feature_extraction.text import CountVectorizer\n",
    "\n",
    "vectorizer=CountVectorizer(max_features=100000,\n",
    "                           binary=True,\n",
    "                           ngram_range=(1,1),\n",
    "                          analyzer='char')\n",
    "\n",
    "fm_train=vectorizer.fit_transform(train)\n",
    "fm_dev=vectorizer.transform(dev)\n",
    "fm_test=vectorizer.transform(test)"
   ]
  },
  {
   "cell_type": "code",
   "execution_count": 137,
   "metadata": {},
   "outputs": [],
   "source": [
    "def grid_searchSVC_multiclass(X_train, y_train):\n",
    "    '''Have to use appropriate scoring for multiclass; I chose f1_macro\n",
    "    - I could have modified the earlier one but decided to leave this one here for easier reviewing \n",
    "    '''\n",
    "    from sklearn.svm import LinearSVC\n",
    "    from sklearn.model_selection import GridSearchCV\n",
    "    \n",
    "    param_grid =  [{'C': [0.001, 0.01, 0.1, 1, 10, 120]}]   \n",
    "\n",
    "    grid_search = GridSearchCV(LinearSVC(), param_grid, cv=5, scoring='f1_micro') \n",
    "    grid_search.fit(X_train, y_train)\n",
    "    \n",
    "    return grid_search"
   ]
  },
  {
   "cell_type": "code",
   "execution_count": 138,
   "metadata": {},
   "outputs": [
    {
     "name": "stderr",
     "output_type": "stream",
     "text": [
      "/opt/conda/lib/python3.7/site-packages/sklearn/svm/base.py:929: ConvergenceWarning: Liblinear failed to converge, increase the number of iterations.\n",
      "  \"the number of iterations.\", ConvergenceWarning)\n"
     ]
    }
   ],
   "source": [
    "gcv_multi = grid_searchSVC_multiclass(fm_train, train_label)"
   ]
  },
  {
   "cell_type": "code",
   "execution_count": 139,
   "metadata": {},
   "outputs": [
    {
     "name": "stdout",
     "output_type": "stream",
     "text": [
      "Best Score: 0.9066933066933067\n",
      "Best Params: {'C': 10}\n"
     ]
    }
   ],
   "source": [
    "print(f'Best Score: {gcv_multi.best_score_}')\n",
    "print(f'Best Params: {gcv_multi.best_params_}')"
   ]
  },
  {
   "cell_type": "code",
   "execution_count": 140,
   "metadata": {},
   "outputs": [],
   "source": [
    "from sklearn.metrics import f1_score"
   ]
  },
  {
   "cell_type": "code",
   "execution_count": 141,
   "metadata": {},
   "outputs": [
    {
     "data": {
      "text/plain": [
       "0.8999000999000999"
      ]
     },
     "execution_count": 141,
     "metadata": {},
     "output_type": "execute_result"
    }
   ],
   "source": [
    "f1_score(gcv_multi.predict(fm_dev), dev_label, average='micro')"
   ]
  },
  {
   "cell_type": "code",
   "execution_count": 142,
   "metadata": {},
   "outputs": [
    {
     "data": {
      "text/plain": [
       "0.9026973026973028"
      ]
     },
     "execution_count": 142,
     "metadata": {},
     "output_type": "execute_result"
    }
   ],
   "source": [
    "f1_score(gcv_multi.predict(fm_test), test_label, average='micro')"
   ]
  },
  {
   "cell_type": "code",
   "execution_count": null,
   "metadata": {},
   "outputs": [],
   "source": []
  },
  {
   "cell_type": "markdown",
   "metadata": {},
   "source": [
    "# 4. If you completed (3),toy around with features, especially the ngram_range and analyzer parameters, which allow you to test classification based on character ngrams of various lengths (not only word n-grams). Gain some in sight in to the accuracy of the classifier with different features, and try to identify misclassified documents-why do you think they were misclassified?"
   ]
  },
  {
   "cell_type": "code",
   "execution_count": 145,
   "metadata": {},
   "outputs": [],
   "source": [
    "def language_features(train, dev, test, ngram_range=(1, 1), analyzer='char'):\n",
    "    from sklearn.feature_extraction.text import CountVectorizer\n",
    "\n",
    "    vectorizer=CountVectorizer(max_features=100000,\n",
    "                               binary=True,\n",
    "                               ngram_range=ngram_range,\n",
    "                              analyzer='char')\n",
    "\n",
    "    fm_train=vectorizer.fit_transform(train)\n",
    "    fm_dev=vectorizer.transform(dev)\n",
    "    fm_test=vectorizer.transform(test)\n",
    "    \n",
    "    return fm_train, fm_dev, fm_test"
   ]
  },
  {
   "cell_type": "code",
   "execution_count": 147,
   "metadata": {
    "scrolled": false
   },
   "outputs": [
    {
     "name": "stderr",
     "output_type": "stream",
     "text": [
      "/opt/conda/lib/python3.7/site-packages/sklearn/svm/base.py:929: ConvergenceWarning: Liblinear failed to converge, increase the number of iterations.\n",
      "  \"the number of iterations.\", ConvergenceWarning)\n"
     ]
    },
    {
     "name": "stdout",
     "output_type": "stream",
     "text": [
      "For range (1, 1)\n",
      "Best Params: {'C': 10}\n",
      "Train Scores = 0.9066933066933067\n",
      "DEV scores = 0.9018543606721238\n",
      "TEST scores = 0.9020641434044983\n",
      "\n"
     ]
    },
    {
     "name": "stderr",
     "output_type": "stream",
     "text": [
      "/opt/conda/lib/python3.7/site-packages/sklearn/svm/base.py:929: ConvergenceWarning: Liblinear failed to converge, increase the number of iterations.\n",
      "  \"the number of iterations.\", ConvergenceWarning)\n"
     ]
    },
    {
     "name": "stdout",
     "output_type": "stream",
     "text": [
      "For range (1, 2)\n",
      "Best Params: {'C': 0.01}\n",
      "Train Scores = 0.9758241758241758\n",
      "DEV scores = 0.9728781264094792\n",
      "TEST scores = 0.9768701639528132\n",
      "\n"
     ]
    },
    {
     "name": "stderr",
     "output_type": "stream",
     "text": [
      "/opt/conda/lib/python3.7/site-packages/sklearn/svm/base.py:929: ConvergenceWarning: Liblinear failed to converge, increase the number of iterations.\n",
      "  \"the number of iterations.\", ConvergenceWarning)\n"
     ]
    },
    {
     "name": "stdout",
     "output_type": "stream",
     "text": [
      "For range (1, 3)\n",
      "Best Params: {'C': 0.01}\n",
      "Train Scores = 0.9778221778221778\n",
      "DEV scores = 0.9756938867058451\n",
      "TEST scores = 0.9798723820168679\n",
      "\n"
     ]
    },
    {
     "name": "stderr",
     "output_type": "stream",
     "text": [
      "/opt/conda/lib/python3.7/site-packages/sklearn/svm/base.py:929: ConvergenceWarning: Liblinear failed to converge, increase the number of iterations.\n",
      "  \"the number of iterations.\", ConvergenceWarning)\n"
     ]
    },
    {
     "name": "stdout",
     "output_type": "stream",
     "text": [
      "For range (2, 3)\n",
      "Best Params: {'C': 0.01}\n",
      "Train Scores = 0.9760239760239761\n",
      "DEV scores = 0.9737401355284158\n",
      "TEST scores = 0.975535589576533\n",
      "\n"
     ]
    }
   ],
   "source": [
    "#maxRange = 6\n",
    "#ranges = []\n",
    "#for x in range(1, maxRange):\n",
    "#    for y in range(x, maxRange):\n",
    "#        ranges.append((x, y))\n",
    "\n",
    "ranges = [(1, 1), (1, 2),(2, 2), (1, 3), (2, 3)]\n",
    "\n",
    "for r in ranges:    \n",
    "    fm_train, fm_dev, fm_test = language_features(train, dev, test, ngram_range=r) \n",
    "    \n",
    "    gcv_multi = grid_searchSVC_multiclass(fm_train, train_label)\n",
    "        \n",
    "    score_dev = f1_score(gcv_multi.predict(fm_dev), dev_label, average='micro')\n",
    "    score_test = f1_score(gcv_multi.predict(fm_test), test_label, average='micro')\n",
    "\n",
    "    print(f'For range {r}')\n",
    "    print(f'Best Params: {gcv_multi.best_params_}')\n",
    "    print(f'Train Scores = {gcv_multi.best_score_}')\n",
    "    print(f'DEV scores = {score_dev}')\n",
    "    print(f'TEST scores = {score_test}')        \n",
    "    print('')"
   ]
  },
  {
   "cell_type": "code",
   "execution_count": 148,
   "metadata": {},
   "outputs": [
    {
     "name": "stderr",
     "output_type": "stream",
     "text": [
      "/opt/conda/lib/python3.7/site-packages/sklearn/svm/base.py:929: ConvergenceWarning: Liblinear failed to converge, increase the number of iterations.\n",
      "  \"the number of iterations.\", ConvergenceWarning)\n"
     ]
    },
    {
     "name": "stdout",
     "output_type": "stream",
     "text": [
      "For range (2, 2)\n",
      "Best Params: {'C': 0.01}\n",
      "Train Scores = 0.9734265734265735\n",
      "DEV scores = 0.9692307692307692\n",
      "TEST scores = 0.9706293706293706\n",
      "\n"
     ]
    }
   ],
   "source": [
    "r = (2, 2)\n",
    "fm_train, fm_dev, fm_test = language_features(train, dev, test, ngram_range=r) \n",
    "    \n",
    "gcv_multi = grid_searchSVC_multiclass(fm_train, train_label)\n",
    "\n",
    "score_dev = f1_score(gcv_multi.predict(fm_dev), dev_label, average='micro')\n",
    "score_test = f1_score(gcv_multi.predict(fm_test), test_label, average='micro')\n",
    "\n",
    "print(f'For range {r}')\n",
    "print(f'Best Params: {gcv_multi.best_params_}')\n",
    "print(f'Train Scores = {gcv_multi.best_score_}')\n",
    "print(f'DEV scores = {score_dev}')\n",
    "print(f'TEST scores = {score_test}')        \n",
    "print('')"
   ]
  },
  {
   "cell_type": "code",
   "execution_count": null,
   "metadata": {},
   "outputs": [],
   "source": []
  },
  {
   "cell_type": "code",
   "execution_count": 153,
   "metadata": {},
   "outputs": [
    {
     "name": "stderr",
     "output_type": "stream",
     "text": [
      "/opt/conda/lib/python3.7/site-packages/sklearn/svm/base.py:929: ConvergenceWarning: Liblinear failed to converge, increase the number of iterations.\n",
      "  \"the number of iterations.\", ConvergenceWarning)\n"
     ]
    },
    {
     "name": "stdout",
     "output_type": "stream",
     "text": [
      "For range (1, 2)\n",
      "Best Params: {'C': 0.01}\n",
      "Train Scores = 0.9758241758241758\n",
      "DEV scores = 0.974025974025974\n",
      "TEST scores = 0.9744255744255744\n",
      "\n"
     ]
    }
   ],
   "source": [
    "r = (1, 2)\n",
    "fm_train, fm_dev, fm_test = language_features(train, dev, test, ngram_range=r) \n",
    "    \n",
    "gcv_multi = grid_searchSVC_multiclass(fm_train, train_label)\n",
    "\n",
    "score_dev = f1_score(gcv_multi.predict(fm_dev), dev_label, average='micro')\n",
    "score_test = f1_score(gcv_multi.predict(fm_test), test_label, average='micro')\n",
    "\n",
    "print(f'For range {r}')\n",
    "print(f'Best Params: {gcv_multi.best_params_}')\n",
    "print(f'Train Scores = {gcv_multi.best_score_}')\n",
    "print(f'DEV scores = {score_dev}')\n",
    "print(f'TEST scores = {score_test}')        \n",
    "print('')"
   ]
  },
  {
   "cell_type": "code",
   "execution_count": 170,
   "metadata": {},
   "outputs": [],
   "source": [
    "pred = gcv_multi.predict(fm_test)"
   ]
  },
  {
   "cell_type": "code",
   "execution_count": 171,
   "metadata": {},
   "outputs": [],
   "source": [
    "a = pred==test_label"
   ]
  },
  {
   "cell_type": "code",
   "execution_count": 210,
   "metadata": {
    "scrolled": true
   },
   "outputs": [
    {
     "name": "stdout",
     "output_type": "stream",
     "text": [
      "True label: pt, predicted label: et\n",
      "Nada mais!\n",
      "\n",
      "True label: pt, predicted label: en\n",
      "Artes Plásticas\n",
      "\n",
      "True label: pt, predicted label: en\n",
      "The Washington Post\n",
      "\n",
      "True label: pt, predicted label: es\n",
      "Tudo, claro está, muito arborizado.\n",
      "\n",
      "True label: pt, predicted label: es\n",
      "E o volume de alumínio daria para fazer 275 mil latas de refrigerante.\n",
      "\n",
      "True label: pt, predicted label: en\n",
      "Com Jeff Goldblum, Alan Bates, Kathy Baker e Jean-Pierre Cassel\n",
      "\n",
      "True label: pt, predicted label: en\n",
      "Para melhor cantor, figuram José Carreras, Thomas Hampson, Ben Heppner, Sergei Leiferkus e Bryn Terfei.\n",
      "\n",
      "True label: pt, predicted label: et\n",
      "E ele gostava de Roosevelt e detestava os nazistas.\n",
      "\n",
      "True label: pt, predicted label: et\n",
      "MONTE ESTORIL\n",
      "\n",
      "True label: pt, predicted label: fi\n",
      "Fantasia infantil:\n",
      "\n",
      "True label: pt, predicted label: en\n",
      "Choque frontal\n",
      "\n",
      "True label: pt, predicted label: es\n",
      "LUIZ FELIPE DE ALENCASTRO, 48, historiador, é pesquisador de o Cebrap( Centro Brasileiro de Análise e Planejamento) e professor de o Instituto de Economia de a Unicamp( Universidade Estadual de Campinas).\n",
      "\n",
      "True label: pt, predicted label: es\n",
      "o 11, Primavera de 1963, homenageia Yves Klein).\n",
      "\n",
      "True label: pt, predicted label: et\n",
      "Um livro.\n",
      "\n",
      "True label: pt, predicted label: en\n",
      "?:? Jazz rap?\n",
      "\n",
      "True label: pt, predicted label: en\n",
      "Lírio\n",
      "\n",
      "True label: pt, predicted label: et\n",
      "Mas poderia vende- las.\n",
      "\n",
      "True label: pt, predicted label: et\n",
      "Dias 5 e 7, a as 18h00.\n",
      "\n",
      "True label: pt, predicted label: et\n",
      "Volta Galp a Portugal\n",
      "\n",
      "True label: pt, predicted label: es\n",
      "« La Saga del Traje Alienigena» tem a assinatura de Ron Frenz, Ruck Leonardi( desenho), Tom DeFalco e Roger Stern( argumento).\n",
      "\n",
      "True label: pt, predicted label: en\n",
      "Vereador renunciou\n",
      "\n",
      "True label: pt, predicted label: et\n",
      "A as 21h30.\n",
      "\n",
      "True label: pt, predicted label: en\n",
      "The Earth Works Group\n",
      "\n",
      "True label: pt, predicted label: en\n",
      "Campanha salarial\n",
      "\n",
      "True label: pt, predicted label: et\n",
      "Ônibus leve, US$ 55 mil, para o pesado, US$ 70 mil.\n",
      "\n",
      "True label: pt, predicted label: es\n",
      "Entre os denunciados por corrupção passiva estão o procurador de Justiça aposentado Aldegy do Nascimento, 26 delegados, inspetores e peritos de a Polícia Civil e Ary Chagas de Aguiar, assessor de a promotora Lúcia Atalla.\n",
      "\n",
      "True label: pt, predicted label: en\n",
      "\n",
      "\n",
      "True label: es, predicted label: en\n",
      "Hay informaciones que son opiniones y hay informaciones que son hechos.\n",
      "\n",
      "True label: es, predicted label: pt\n",
      "Ayudemos a mi compañero Jimmy\".\n",
      "\n",
      "True label: es, predicted label: en\n",
      "(\"¡ Vaya Bollo!\")\n",
      "\n",
      "True label: es, predicted label: pt\n",
      "¿ A qué esperáis para sorprender a papá?\n",
      "\n",
      "True label: es, predicted label: pt\n",
      "Ojala ubiese muchas empresas como esta.\n",
      "\n",
      "True label: es, predicted label: pt\n",
      "\" Mamá,¿ por qué nadie es como nosotros?\"\n",
      "\n",
      "True label: es, predicted label: et\n",
      "El Salmar, 5.\n",
      "\n",
      "True label: es, predicted label: pt\n",
      "Originalmente, Catania no había sido una zona típicamente mafiosa.\n",
      "\n",
      "True label: es, predicted label: en\n",
      "Pertch Proshian( 1839-1907);\n",
      "\n",
      "True label: es, predicted label: et\n",
      "Es Tauro.\n",
      "\n",
      "True label: es, predicted label: en\n",
      "Ursula K. Le Guin explora la sexualidad transespecies en The Left Hand of Darkness( 1969);\n",
      "\n",
      "True label: es, predicted label: pt\n",
      "¿ Instituciones o psicópatas?\n",
      "\n",
      "True label: es, predicted label: pt\n",
      "Ruiz Mateos,¿ héroe o villano?\n",
      "\n",
      "True label: es, predicted label: et\n",
      "Lleva por número KV 621.\n",
      "\n",
      "True label: es, predicted label: en\n",
      "Retablo mayor churrigueresco( s. XVIII).\n",
      "\n",
      "True label: es, predicted label: pt\n",
      "Es endémica de México.\n",
      "\n",
      "True label: es, predicted label: en\n",
      "* Edward S. Miller, War Plan Orange: The U.S. Strategy to Defeat Japan, 1897-1945, U.S. Naval Institute Press, 1991, ISBN: 0870217593\n",
      "\n",
      "True label: es, predicted label: en\n",
      "\n",
      "\n",
      "True label: fi, predicted label: et\n",
      "Lopulta oikeus tuomitsi heidät parituksesta- ei ihmiskaupasta.\n",
      "\n",
      "True label: fi, predicted label: et\n",
      "Maistele.\n",
      "\n",
      "True label: fi, predicted label: et\n",
      "\" 7 artikla\n",
      "\n",
      "True label: fi, predicted label: en\n",
      "1. JOHDANTO\n",
      "\n",
      "True label: fi, predicted label: et\n",
      "Uusi aamu\n",
      "\n",
      "True label: fi, predicted label: pt\n",
      "Arvosana: 3-\n",
      "\n",
      "True label: fi, predicted label: pt\n",
      "Quantumin auditorio\n",
      "\n",
      "True label: fi, predicted label: et\n",
      "MIES: Miksi?\n",
      "\n",
      "True label: fi, predicted label: en\n",
      "Jouduin töihin\n",
      "\n",
      "True label: fi, predicted label: et\n",
      "Viime vuonna.\n",
      "\n",
      "True label: fi, predicted label: en\n",
      "1. JOHDANTO\n",
      "\n",
      "True label: fi, predicted label: et\n",
      "Menen kauas\n",
      "\n",
      "True label: fi, predicted label: et\n",
      "Ole onnellinen.\n",
      "\n",
      "True label: fi, predicted label: et\n",
      "On aamu.\n",
      "\n",
      "True label: fi, predicted label: en\n",
      "Nyt se tapahtuu!\n",
      "\n",
      "True label: fi, predicted label: et\n",
      "Nuku nuku.\n",
      "\n",
      "True label: fi, predicted label: et\n",
      "Juho nousi ja asteli ovelle.\n",
      "\n",
      "True label: fi, predicted label: et\n",
      "Neil Diamond laulaa:\n",
      "\n",
      "True label: fi, predicted label: et\n",
      "Veikkausliigasta putosi FC KooTeePee ja liigaan nousi JJK.\n",
      "\n",
      "True label: fi, predicted label: et\n",
      "Kiinasta paljastui vale-Ikea\n",
      "\n",
      "True label: fi, predicted label: et\n",
      "Annamme anteeksi.\n",
      "\n",
      "True label: fi, predicted label: et\n",
      "Teema vaihtelee laidasta laitaan.\n",
      "\n",
      "True label: fi, predicted label: en\n",
      "It was worth it!\n",
      "\n",
      "True label: fi, predicted label: en\n",
      "Honduras\n",
      "\n",
      "True label: fi, predicted label: en\n",
      "Nam\n",
      "\n",
      "True label: fi, predicted label: et\n",
      "Foorumin avasi professori Kari Lukka.\n",
      "\n",
      "True label: fi, predicted label: en\n",
      "Lisää tietoa http://thrilltheworld09finland.blogspot.com/\n",
      "\n",
      "True label: fi, predicted label: et\n",
      "Te Rauparaha(~1760- 1849) oli Ngāti Toa maoriheimon johtaja.\n",
      "\n",
      "True label: fi, predicted label: en\n",
      "Mur!\n",
      "\n",
      "True label: fi, predicted label: en\n",
      "Bruxelles\n",
      "\n",
      "True label: fi, predicted label: en\n",
      "Johan nyt on perhana!\n",
      "\n",
      "True label: fi, predicted label: et\n",
      "Eivät.\n",
      "\n",
      "True label: fi, predicted label: et\n",
      "Mones.\n",
      "\n",
      "True label: fi, predicted label: et\n",
      "Mittaus oli nopeaa.\n",
      "\n",
      "True label: fi, predicted label: et\n",
      "Ja ne kyyneleet!\n",
      "\n",
      "True label: fi, predicted label: et\n",
      "Tulevatko he Porvoosta?\n",
      "\n",
      "True label: fi, predicted label: en\n",
      "\n",
      "\n",
      "True label: en, predicted label: et\n",
      "Huskers drool over Sooners.\n",
      "\n",
      "True label: en, predicted label: et\n",
      "E.g.\n",
      "\n",
      "True label: en, predicted label: es\n",
      "Lara Leibman@ENRON COMMUNICATIONS\n",
      "\n",
      "True label: en, predicted label: pt\n",
      "Get-A-Free-House.com\n",
      "\n",
      "True label: en, predicted label: et\n",
      "Let me know.\n",
      "\n",
      "True label: en, predicted label: et\n",
      "Kim.\n",
      "\n",
      "True label: en, predicted label: et\n",
      "Ok--fine.\n",
      "\n",
      "True label: en, predicted label: fi\n",
      "Question Mark\n",
      "\n",
      "True label: en, predicted label: et\n",
      "Selah.\n",
      "\n",
      "True label: en, predicted label: et\n",
      "-Juggernaut>\n",
      "\n",
      "True label: en, predicted label: es\n",
      "Ernie Simien\n",
      "\n",
      "True label: en, predicted label: fi\n",
      "Justin\n",
      "\n",
      "True label: en, predicted label: es\n",
      "Chris Enron Canada Corp. Suite 1100, 70 York Street Toronto, Ontario M5J 1S9 416-865-3700\n",
      "\n",
      "True label: en, predicted label: es\n",
      "Rhonda L Denton\n",
      "\n",
      "True label: en, predicted label: pt\n",
      "Is Fujairah a nice place to live in?\n",
      "\n",
      "True label: en, predicted label: pt\n",
      "Sara\n",
      "\n",
      "True label: en, predicted label: et\n",
      "Regards.\n",
      "\n",
      "True label: en, predicted label: es\n",
      "Electricity Market Design Conference March 25-26, 2002, Atlanta, Georgia\n",
      "\n",
      "True label: en, predicted label: et\n",
      "Sigh.\n",
      "\n",
      "True label: en, predicted label: et\n",
      "Kind regards.\n",
      "\n",
      "True label: en, predicted label: et\n",
      "OK.\n",
      "\n",
      "True label: en, predicted label: et\n",
      "It is like a mini tablet itself!\n",
      "\n",
      "True label: en, predicted label: et\n",
      "Big deal kinda stuff.\n",
      "\n",
      "True label: en, predicted label: et\n",
      "Fistfights, please.\n",
      "\n",
      "True label: en, predicted label: pt\n",
      "Jamaica\n",
      "\n",
      "True label: en, predicted label: pt\n",
      "Orr's a nightmare!\n",
      "\n",
      "True label: et, predicted label: es\n",
      "Campanada 1995.\n",
      "\n",
      "True label: et, predicted label: en\n",
      "1.2.3.\n",
      "\n",
      "True label: et, predicted label: fi\n",
      "Sotsiaal-klassiline hoiak\n",
      "\n",
      "True label: et, predicted label: fi\n",
      "Ain Kallis\n",
      "\n",
      "True label: et, predicted label: en\n",
      "SMITH KLINE 31,6\n",
      "\n",
      "True label: et, predicted label: en\n",
      "Sherry kodumaa.\n",
      "\n",
      "True label: et, predicted label: en\n",
      "( Antes Edition)\n",
      "\n",
      "True label: et, predicted label: en\n",
      "( naer)\n",
      "\n",
      "True label: et, predicted label: fi\n",
      "Igatsen selle järele tänapäevani.”\n",
      "\n",
      "True label: et, predicted label: en\n",
      "MART JUUR\n",
      "\n",
      "True label: et, predicted label: fi\n",
      "Valasin vett mööda renni.\n",
      "\n",
      "True label: et, predicted label: en\n",
      "ANDRES KLEMET\n",
      "\n",
      "True label: et, predicted label: fi\n",
      "Loe ka juhtkirja\n",
      "\n",
      "True label: et, predicted label: en\n",
      "Foto: Priit Simson\n",
      "\n",
      "True label: et, predicted label: fi\n",
      "Torman kööki.\n",
      "\n",
      "True label: et, predicted label: en\n",
      "Persses?\n",
      "\n",
      "True label: et, predicted label: en\n",
      "Bill Frisell\n",
      "\n",
      "True label: et, predicted label: fi\n",
      "Pensionini veel tosin aastat.\n",
      "\n",
      "True label: et, predicted label: fi\n",
      "Kasvatan viit hane.\n",
      "\n",
      "True label: et, predicted label: en\n",
      "\n",
      "\n"
     ]
    }
   ],
   "source": [
    "compare, lengths,  = [], [] \n",
    "langs_Y = []\n",
    "langs_y = []\n",
    "for x, y, z in zip(pred[a==False], test_label[a==False], test[a==False]):\n",
    "    compare.append(\"{} vs {} errors\".format(*sorted([x, y])))\n",
    "    lengths.append(len(z))\n",
    "    langs_Y.append(y)\n",
    "    langs_y.append(x)\n",
    "    print(f\"True label: {y}, predicted label: {x}\")\n",
    "    print(f\"{z}\")\n",
    "    print()\n",
    "tot_lengths = [len(x) for x in test]"
   ]
  },
  {
   "cell_type": "markdown",
   "metadata": {},
   "source": [
    "By eye-balling some of the wrongly predicted labels:\n",
    "\n",
    "Some of the incorrectly predicted labels are a bit disappointing. However some are understandable. The Washington Post is the name of a newspaper and had the label for Portugues, but English was predicted. The same when using actor names in portuguese and predicting English etc."
   ]
  },
  {
   "cell_type": "code",
   "execution_count": 208,
   "metadata": {},
   "outputs": [
    {
     "data": {
      "text/plain": [
       "Counter({'et vs pt errors': 9,\n",
       "         'en vs pt errors': 16,\n",
       "         'es vs pt errors': 14,\n",
       "         'fi vs pt errors': 3,\n",
       "         'en vs es errors': 12,\n",
       "         'es vs et errors': 4,\n",
       "         'et vs fi errors': 31,\n",
       "         'en vs fi errors': 14,\n",
       "         'en vs et errors': 25})"
      ]
     },
     "execution_count": 208,
     "metadata": {},
     "output_type": "execute_result"
    }
   ],
   "source": [
    "Counter(compare)"
   ]
  },
  {
   "cell_type": "code",
   "execution_count": 214,
   "metadata": {},
   "outputs": [
    {
     "name": "stdout",
     "output_type": "stream",
     "text": [
      "orignal label count\n"
     ]
    },
    {
     "data": {
      "text/plain": [
       "Counter({'pt': 27, 'es': 18, 'fi': 37, 'en': 26, 'et': 20})"
      ]
     },
     "execution_count": 214,
     "metadata": {},
     "output_type": "execute_result"
    }
   ],
   "source": [
    "print('orignal label count')\n",
    "Counter(langs_Y)"
   ]
  },
  {
   "cell_type": "code",
   "execution_count": 213,
   "metadata": {},
   "outputs": [
    {
     "name": "stdout",
     "output_type": "stream",
     "text": [
      "\n",
      "False label count\n"
     ]
    },
    {
     "data": {
      "text/plain": [
       "Counter({'et': 49, 'en': 41, 'es': 12, 'fi': 11, 'pt': 15})"
      ]
     },
     "execution_count": 213,
     "metadata": {},
     "output_type": "execute_result"
    }
   ],
   "source": [
    "print()\n",
    "print('False label count')\n",
    "Counter(langs_y)"
   ]
  },
  {
   "cell_type": "markdown",
   "metadata": {},
   "source": [
    "It seems that English, Finnish and Estonian were often involved in mislabelling. It seems that when it comes to Finnish and Estonian there were frequent mislabelling associated between the two. As for English the language was involved in many errors but the trend seems to be more wide spread among the languages. \n",
    "\n",
    "Which makes sense linguistically, although I would have thought Spanish and Portuguese would have been mixed up more frequently. \n",
    "\n",
    "Finnish and Estonian have certain unique orthographical properties (double vowels 'aa' for example, lower frequency use of 'd', 'g', 'c' etc). English has historically been influenced many languages and Estonian and Finnish are a bit different."
   ]
  },
  {
   "cell_type": "code",
   "execution_count": 215,
   "metadata": {},
   "outputs": [
    {
     "data": {
      "text/plain": [
       "<matplotlib.axes._subplots.AxesSubplot at 0x7f62f111ff98>"
      ]
     },
     "execution_count": 215,
     "metadata": {},
     "output_type": "execute_result"
    },
    {
     "data": {
      "image/png": "[encoded data removed]",
      "text/plain": [
       "<Figure size 432x288 with 1 Axes>"
      ]
     },
     "metadata": {
      "needs_background": "light"
     },
     "output_type": "display_data"
    }
   ],
   "source": [
    "sn.distplot(lengths, color='crimson')\n",
    "sn.distplot(tot_lengths)"
   ]
  },
  {
   "cell_type": "markdown",
   "metadata": {},
   "source": [
    "Further, it seems that short sentences were more likely to be mislabelled than longer ones. The above graph shows the distribution of lengths for the test set in BLUE and and the mislabeled test set in RED."
   ]
  },
  {
   "cell_type": "markdown",
   "metadata": {},
   "source": [
    "### 5. Pick one language that interests you, and one treebank for that language ,and try to build a POS tagger for this language. what the state of the art roughly is for your selected language and treebank. Did you come close?\n"
   ]
  },
  {
   "cell_type": "code",
   "execution_count": 4,
   "metadata": {},
   "outputs": [],
   "source": [
    "from os import listdir\n",
    "fnames = [f for f in listdir() if '.conllu' in f]"
   ]
  },
  {
   "cell_type": "code",
   "execution_count": 161,
   "metadata": {},
   "outputs": [],
   "source": [
    "corpus_dict = {}\n",
    "for file in fnames:\n",
    "    with open(file, 'r') as f:\n",
    "        data = f.read().split('sent_id')"
   ]
  },
  {
   "cell_type": "code",
   "execution_count": 252,
   "metadata": {},
   "outputs": [],
   "source": [
    "def prep_sen_data(file):\n",
    "    \n",
    "    with open(file, 'r') as f:\n",
    "        data = f.read().split('# sent_id')\n",
    "        \n",
    "    current_sentence = []\n",
    "    sentences = []\n",
    "    OneWord=namedtuple(\"OneWord\",[\"word\", \"pos_label\"])\n",
    "    for s in data:\n",
    "        if s:\n",
    "            lines = s.split('\\n') \n",
    "            i = lines.index('')\n",
    "            for l in lines[:i]:\n",
    "                if '#' in l:\n",
    "                    if current_sentence:\n",
    "                        sentences.append(current_sentence)\n",
    "                        current_sentence=[]\n",
    "                        pos = 0\n",
    "                    else:\n",
    "                        continue\n",
    "                #columns = l[1], l.split()[3],l.split()[4]\n",
    "                if l[0].isdigit():\n",
    "                    columns = [l.split()[1], l.split()[3]]\n",
    "                    current_sentence.append(OneWord(*columns))\n",
    "    return sentences\n",
    "\n",
    "\n"
   ]
  },
  {
   "cell_type": "code",
   "execution_count": 256,
   "metadata": {},
   "outputs": [
    {
     "data": {
      "text/plain": [
       "['af_afribooms-ud-test.conllu',\n",
       " 'af_afribooms-ud-train.conllu',\n",
       " 'af_afribooms-ud-dev.conllu']"
      ]
     },
     "execution_count": 256,
     "metadata": {},
     "output_type": "execute_result"
    }
   ],
   "source": [
    "fnames"
   ]
  },
  {
   "cell_type": "code",
   "execution_count": 257,
   "metadata": {},
   "outputs": [],
   "source": [
    "sentences_train=list(prep_sen_data(\"af_afribooms-ud-train.conllu\"))\n",
    "sentences_dev=list(prep_sen_data(\"af_afribooms-ud-dev.conllu\"))"
   ]
  },
  {
   "cell_type": "code",
   "execution_count": 258,
   "metadata": {},
   "outputs": [
    {
     "data": {
      "text/plain": [
       "(1314, 193)"
      ]
     },
     "execution_count": 258,
     "metadata": {},
     "output_type": "execute_result"
    }
   ],
   "source": [
    "len(sentences_train), len(sentences_dev)"
   ]
  },
  {
   "cell_type": "code",
   "execution_count": 259,
   "metadata": {},
   "outputs": [
    {
     "name": "stdout",
     "output_type": "stream",
     "text": [
      "[{'word_En': 1}, {'word_ons': 1}, {'word_hoop': 1}, {'word_hierdie': 1}, {'word_keer': 1}, {'word_dat': 1}, {'word_hernude': 1}, {'word_pogings': 1}, {'word_deur': 1}, {'word_die': 1}, {'word_internasionale': 1}, {'word_gemeenskap': 1}, {'word_om': 1}, {'word_blywende': 1}, {'word_oplossings': 1}, {'word_vir': 1}, {'word_hierdie': 1}, {'word_konflik': 1}, {'word_te': 1}, {'word_vind': 1}, {'word_,': 1}, {'word_vrugte': 1}, {'word_sal': 1}, {'word_afwerp': 1}, {'word_sodat': 1}, {'word_die': 1}, {'word_Israeliete': 1}, {'word_en': 1}, {'word_die': 1}, {'word_Palestyne': 1}, {'word_as': 1}, {'word_bure': 1}, {'word_vrede': 1}, {'word_en': 1}, {'word_sekuriteit': 1}, {'word_kan': 1}, {'word_geniet': 1}, {'word_binne': 1}, {'word_hul': 1}, {'word_soewereine': 1}, {'word_gebiede': 1}, {'word_.': 1}]\n"
     ]
    }
   ],
   "source": [
    "def generate_sentence_features(sent):\n",
    "    #Given a sentence as a list of (word, label) pairs\n",
    "    #generate the features for every word\n",
    "    #The result should be a list of same length as the sentence\n",
    "    #Each item is a dictionary of {\"feature name\"->feature value} mappings, holding all features of the word at that position\n",
    "    \n",
    "    sent_features=[] #this will be the result\n",
    "    for one_word in sent:\n",
    "        #We do nothing with label\n",
    "        #it just happens to be around\n",
    "        word_features={}\n",
    "        word_features[\"word_\"+one_word.word]=1 #the word itself is a feature\n",
    "        sent_features.append(word_features)\n",
    "    return sent_features\n",
    "\n",
    "print(generate_sentence_features(sentences_dev[0])  )"
   ]
  },
  {
   "cell_type": "code",
   "execution_count": 260,
   "metadata": {},
   "outputs": [],
   "source": [
    "#...now we can generate the training examples\n",
    "def prep_data(sentences):\n",
    "    all_labels=[] #here we gather labels for all words in all sentences\n",
    "    all_features=[] #here we gather features for all words in all sentences\n",
    "    for sentence in sentences:\n",
    "        sent_features=generate_sentence_features(sentence)\n",
    "        assert len(sent_features)==len(sentence)\n",
    "        #Now we can get, for every position its label and its features\n",
    "        for one_word,features in zip(sentence,sent_features):\n",
    "            all_labels.append(one_word.pos_label) #label\n",
    "            all_features.append(features)         #and features to go with it\n",
    "    return all_labels, all_features\n",
    "\n",
    "train_labels,train_features=prep_data(sentences_train)\n",
    "dev_labels,dev_features=prep_data(sentences_dev)"
   ]
  },
  {
   "cell_type": "code",
   "execution_count": 261,
   "metadata": {},
   "outputs": [
    {
     "name": "stdout",
     "output_type": "stream",
     "text": [
      "Vectorizer vocab size: 5079\n",
      "Train shape (33889, 5079)\n",
      "Dev shape (5305, 5079)\n"
     ]
    }
   ],
   "source": [
    "from sklearn.feature_extraction import DictVectorizer\n",
    "vectorizer=DictVectorizer()\n",
    "vectorizer.fit(train_features)\n",
    "print(\"Vectorizer vocab size:\",len(vectorizer.vocabulary_))\n",
    "\n",
    "feature_vectors_train=vectorizer.transform(train_features)\n",
    "feature_vectors_dev=vectorizer.transform(dev_features)\n",
    "\n",
    "print(\"Train shape\",feature_vectors_train.shape)\n",
    "print(\"Dev shape\",feature_vectors_dev.shape)"
   ]
  },
  {
   "cell_type": "code",
   "execution_count": 262,
   "metadata": {},
   "outputs": [
    {
     "name": "stdout",
     "output_type": "stream",
     "text": [
      "[LibLinear]"
     ]
    },
    {
     "data": {
      "text/plain": [
       "LinearSVC(C=0.05, class_weight=None, dual=True, fit_intercept=True,\n",
       "          intercept_scaling=1, loss='squared_hinge', max_iter=1000,\n",
       "          multi_class='ovr', penalty='l2', random_state=None, tol=0.0001,\n",
       "          verbose=1)"
      ]
     },
     "execution_count": 262,
     "metadata": {},
     "output_type": "execute_result"
    }
   ],
   "source": [
    "\n",
    "import sklearn.svm\n",
    "\n",
    "classifier=sklearn.svm.LinearSVC(C=0.05,verbose=1)\n",
    "classifier.fit(feature_vectors_train, train_labels)"
   ]
  },
  {
   "cell_type": "code",
   "execution_count": 263,
   "metadata": {},
   "outputs": [
    {
     "data": {
      "text/plain": [
       "0.8452403393025447"
      ]
     },
     "execution_count": 263,
     "metadata": {},
     "output_type": "execute_result"
    }
   ],
   "source": [
    "classifier.score(feature_vectors_dev,dev_labels)"
   ]
  },
  {
   "cell_type": "code",
   "execution_count": 264,
   "metadata": {},
   "outputs": [
    {
     "name": "stdout",
     "output_type": "stream",
     "text": [
      "Train shape (33889, 14981)\n",
      "Dev shape (5305, 14981)\n",
      "[LibLinear]"
     ]
    },
    {
     "data": {
      "text/plain": [
       "0.9236569274269557"
      ]
     },
     "execution_count": 264,
     "metadata": {},
     "output_type": "execute_result"
    }
   ],
   "source": [
    "def generate_sentence_features(sent):\n",
    "    #Given a sentence as a list of (word, label) pairs\n",
    "    #generate the features for every word\n",
    "    #The result should be a list of same length as the sentence\n",
    "    #Each item is a dictionary of {\"feature name\"->feature value} mappings, holding all features of the word at that position\n",
    "    \n",
    "    sent_features=[] #this will be the result\n",
    "    for word_idx, one_word in enumerate(sent):\n",
    "        #We do nothing with label\n",
    "        #it just happens to be around\n",
    "        word_features={}\n",
    "        word_features[\"word_\"+one_word.word]=1 #the word itself is a feature\n",
    "        if word_idx!=0:\n",
    "            word_features[\"left_word_\"+sent[word_idx-1].word]=1\n",
    "        if word_idx!=len(sent)-1:\n",
    "            word_features[\"right_word_\"+sent[word_idx+1].word]=1\n",
    "        sent_features.append(word_features)\n",
    "    return sent_features\n",
    "\n",
    "train_labels,train_features=prep_data(sentences_train)\n",
    "dev_labels,dev_features=prep_data(sentences_dev)\n",
    "vectorizer=DictVectorizer()\n",
    "vectorizer.fit(train_features)\n",
    "feature_vectors_train=vectorizer.transform(train_features)\n",
    "feature_vectors_dev=vectorizer.transform(dev_features)\n",
    "\n",
    "print(\"Train shape\",feature_vectors_train.shape)\n",
    "print(\"Dev shape\",feature_vectors_dev.shape)\n",
    "\n",
    "classifier=sklearn.svm.LinearSVC(C=1,verbose=1)\n",
    "classifier.fit(feature_vectors_train, train_labels)\n",
    "classifier.score(feature_vectors_dev,dev_labels)"
   ]
  },
  {
   "cell_type": "markdown",
   "metadata": {},
   "source": [
    "This is suspicious,  the highest performance according to the website is 97.82% for africaans.\n",
    "\n",
    "1. UDPipe Future (Praha)                   \tsoftware1-P\t97.82\n",
    "\n",
    "At first I achieved 84.52%, which is not terrible. However, with the latter pipeline I acheived 92.37% which is better. To only be 5% off the best performance is nice, it is reasonably close for a first attempt :) "
   ]
  },
  {
   "cell_type": "markdown",
   "metadata": {},
   "source": [
    "I will continue to see if I can close that gap."
   ]
  },
  {
   "cell_type": "code",
   "execution_count": null,
   "metadata": {},
   "outputs": [],
   "source": []
  }
 ],
 "metadata": {
  "kernelspec": {
   "display_name": "Python 3",
   "language": "python",
   "name": "python3"
  },
  "language_info": {
   "codemirror_mode": {
    "name": "ipython",
    "version": 3
   },
   "file_extension": ".py",
   "mimetype": "text/x-python",
   "name": "python",
   "nbconvert_exporter": "python",
   "pygments_lexer": "ipython3",
   "version": "3.7.3"
  }
 },
 "nbformat": 4,
 "nbformat_minor": 4
}
